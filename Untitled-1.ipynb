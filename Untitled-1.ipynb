{
 "cells": [
  {
   "cell_type": "code",
   "execution_count": 13,
   "metadata": {},
   "outputs": [
    {
     "data": {
      "text/plain": [
       "True"
      ]
     },
     "execution_count": 13,
     "metadata": {},
     "output_type": "execute_result"
    }
   ],
   "source": [
    "import cv2\n",
    "import numpy as np\n",
    "import imutils\n",
    "\n",
    "# Bild und Template laden\n",
    "image = cv2.imread('screenshot_folder\\screenshot_20231126_010452_130068.png')  # Ihr Screenshot\n",
    "template = cv2.imread('bedrock copy.png')  # Das zu suchende Bild\n",
    "h, w = template.shape[:-1]\n",
    "\n",
    "# Verschiedene Skalen und Rotationen durchlaufen\n",
    "for scale in np.linspace(0.5, 1.5, 20):  # Beispielskalen von 0.5x bis 1.5x\n",
    "    resized_template = cv2.resize(template, (int(w * scale), int(h * scale)))\n",
    "    for angle in range(0, 360, 10):  # Beispielsrotationen von 0 bis 359 Grad\n",
    "        rotated_template = imutils.rotate_bound(resized_template, angle)\n",
    "        res = cv2.matchTemplate(image, rotated_template, cv2.TM_CCOEFF_NORMED)\n",
    "        threshold = 0.6\n",
    "        loc = np.where(res >= threshold)\n",
    "        for pt in zip(*loc[::-1]):  # Wechseln Sie die Spalten- und Zeilenindex\n",
    "            cv2.rectangle(image, pt, (pt[0] + w, pt[1] + h), (0, 255, 255), 2)\n",
    "\n",
    "cv2.imwrite('detected.png', image)\n",
    "\n"
   ]
  }
 ],
 "metadata": {
  "kernelspec": {
   "display_name": "Python 3",
   "language": "python",
   "name": "python3"
  },
  "language_info": {
   "codemirror_mode": {
    "name": "ipython",
    "version": 3
   },
   "file_extension": ".py",
   "mimetype": "text/x-python",
   "name": "python",
   "nbconvert_exporter": "python",
   "pygments_lexer": "ipython3",
   "version": "3.9.13"
  },
  "orig_nbformat": 4
 },
 "nbformat": 4,
 "nbformat_minor": 2
}
